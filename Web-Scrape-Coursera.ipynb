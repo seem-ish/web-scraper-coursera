{
 "cells": [
  {
   "cell_type": "code",
   "execution_count": 15,
   "id": "5407eb3f-3482-4218-a44f-b86539fdd912",
   "metadata": {},
   "outputs": [],
   "source": [
    "from bs4 import BeautifulSoup \n",
    "import requests"
   ]
  },
  {
   "cell_type": "code",
   "execution_count": 16,
   "id": "a2e19dec-33be-4c59-bf50-612e39c49e96",
   "metadata": {},
   "outputs": [],
   "source": [
    "source = requests.get('https://www.coursera.org/learn/introduction-to-cloud').text"
   ]
  },
  {
   "cell_type": "code",
   "execution_count": 17,
   "id": "b2c5ada5-0cc6-48fa-999c-7275da7a75dc",
   "metadata": {},
   "outputs": [],
   "source": [
    "soup = BeautifulSoup(source, 'lxml')"
   ]
  },
  {
   "cell_type": "code",
   "execution_count": 18,
   "id": "2b86dee4-2bf9-4883-ad4a-5c54a6f5b76b",
   "metadata": {},
   "outputs": [
    {
     "data": {
      "text/plain": [
       "'Introduction to Cloud Computing'"
      ]
     },
     "execution_count": 18,
     "metadata": {},
     "output_type": "execute_result"
    }
   ],
   "source": [
    "soup.find('h1').text"
   ]
  },
  {
   "cell_type": "code",
   "execution_count": 27,
   "id": "bbd3a578-1e3a-46b6-ac77-1355b1d6462e",
   "metadata": {},
   "outputs": [
    {
     "data": {
      "text/plain": [
       "'4.8'"
      ]
     },
     "execution_count": 27,
     "metadata": {},
     "output_type": "execute_result"
    }
   ],
   "source": [
    " soup.find('span', attrs={'data-test' : 'number-star-rating'}).text[:-5]"
   ]
  },
  {
   "cell_type": "code",
   "execution_count": 6,
   "id": "11b5e64d-a58f-4e58-914f-6349e59c33ed",
   "metadata": {},
   "outputs": [
    {
     "data": {
      "text/plain": [
       "4.8"
      ]
     },
     "execution_count": 6,
     "metadata": {},
     "output_type": "execute_result"
    }
   ],
   "source": [
    "y = float(y)\n",
    "y"
   ]
  },
  {
   "cell_type": "code",
   "execution_count": 7,
   "id": "f8ccfe6e-034e-4a3d-b783-036f0b60cda5",
   "metadata": {},
   "outputs": [
    {
     "data": {
      "text/plain": [
       "'846'"
      ]
     },
     "execution_count": 7,
     "metadata": {},
     "output_type": "execute_result"
    }
   ],
   "source": [
    "soup.find('div',class_='_wmgtrl9 color-white ratings-count-expertise-style').span.text[:-8]"
   ]
  },
  {
   "cell_type": "code",
   "execution_count": 8,
   "id": "8571af65-0d42-44c2-bdfb-acf1e7f2c2b9",
   "metadata": {},
   "outputs": [
    {
     "data": {
      "text/plain": [
       "'Rav Ahuja '"
      ]
     },
     "execution_count": 8,
     "metadata": {},
     "output_type": "execute_result"
    }
   ],
   "source": [
    "soup.find('li',class_='_36rlri rc-NavItem banner-instructor-info').a.div.div.span.text"
   ]
  },
  {
   "cell_type": "code",
   "execution_count": 9,
   "id": "586a642e-845f-4478-ac3c-99327e8ecd7e",
   "metadata": {},
   "outputs": [
    {
     "data": {
      "text/plain": [
       "'32,748'"
      ]
     },
     "execution_count": 9,
     "metadata": {},
     "output_type": "execute_result"
    }
   ],
   "source": [
    "soup.find('div',class_='rc-ProductMetrics').div.span.span.text"
   ]
  },
  {
   "cell_type": "code",
   "execution_count": 10,
   "id": "b75bb9ee-8301-421b-a6fd-0e0ff2f1e3f8",
   "metadata": {},
   "outputs": [
    {
     "data": {
      "text/plain": [
       "'Information Technology'"
      ]
     },
     "execution_count": 10,
     "metadata": {},
     "output_type": "execute_result"
    }
   ],
   "source": [
    "soup.find_all('div',class_='_1ruggxy')[1].a.text"
   ]
  },
  {
   "cell_type": "code",
   "execution_count": 11,
   "id": "cd8d0a5a-70c9-44a2-81fc-c4a1ff5c5bac",
   "metadata": {},
   "outputs": [
    {
     "data": {
      "text/plain": [
       "'Cloud Computing'"
      ]
     },
     "execution_count": 11,
     "metadata": {},
     "output_type": "execute_result"
    }
   ],
   "source": [
    "soup.find_all('div',class_='_1ruggxy')[2].a.text"
   ]
  },
  {
   "cell_type": "code",
   "execution_count": 21,
   "id": "2ae6269b-2670-464d-a170-71adeb974a0b",
   "metadata": {},
   "outputs": [
    {
     "name": "stdout",
     "output_type": "stream",
     "text": [
      "Overwriting coursera_scraper.py\n"
     ]
    }
   ],
   "source": [
    "%%writefile coursera_scraper.py\n",
    "\n",
    "def get_title(soup):\n",
    "    return soup.find('h1').text"
   ]
  },
  {
   "cell_type": "code",
   "execution_count": 22,
   "id": "1d347561-0656-4d9d-8b98-a225671b1873",
   "metadata": {},
   "outputs": [
    {
     "name": "stdout",
     "output_type": "stream",
     "text": [
      "Appending to coursera_scraper.py\n"
     ]
    }
   ],
   "source": [
    "%%writefile -a coursera_scraper.py\n",
    "\n",
    "def get_rating_val(soup):\n",
    "    rating_val = soup.find('span',class_='_16ni8zai m-b-0 rating-text number-rating number-rating-expertise').text[:-5]\n",
    "    return float(rating_val)"
   ]
  },
  {
   "cell_type": "code",
   "execution_count": 23,
   "id": "a005da0a-f58f-4310-ac17-450d13a19428",
   "metadata": {},
   "outputs": [
    {
     "name": "stdout",
     "output_type": "stream",
     "text": [
      "Appending to coursera_scraper.py\n"
     ]
    }
   ],
   "source": [
    "%%writefile -a coursera_scraper.py\n",
    "\n",
    "def get_rating_count(soup):\n",
    "    rating_num = soup.find('div',class_='_wmgtrl9 color-white ratings-count-expertise-style').span.text[:-8]\n",
    "    return int(rating_num)"
   ]
  },
  {
   "cell_type": "code",
   "execution_count": 24,
   "id": "9518725d-5e66-4813-ac46-0c483009db77",
   "metadata": {},
   "outputs": [
    {
     "name": "stdout",
     "output_type": "stream",
     "text": [
      "Appending to coursera_scraper.py\n"
     ]
    }
   ],
   "source": [
    "%%writefile -a coursera_scraper.py\n",
    "\n",
    "def get_enroll_count(soup):\n",
    "    enroll_count = soup.find('div',class_='rc-ProductMetrics').div.span.span.text\n",
    "    return int(enroll_count)"
   ]
  },
  {
   "cell_type": "code",
   "execution_count": 25,
   "id": "345361ba-61f0-4a80-b734-e039cd1b58ff",
   "metadata": {},
   "outputs": [
    {
     "name": "stdout",
     "output_type": "stream",
     "text": [
      "Appending to coursera_scraper.py\n"
     ]
    }
   ],
   "source": [
    "%%writefile -a coursera_scraper.py\n",
    "\n",
    "def get_main_category(soup):\n",
    "    return soup.find_all('div',class_='_1ruggxy')[1].a.text"
   ]
  },
  {
   "cell_type": "code",
   "execution_count": 26,
   "id": "d72f74cb-f636-4045-aae0-688c7dadb168",
   "metadata": {},
   "outputs": [
    {
     "name": "stdout",
     "output_type": "stream",
     "text": [
      "Appending to coursera_scraper.py\n"
     ]
    }
   ],
   "source": [
    "%%writefile -a coursera_scraper.py\n",
    "\n",
    "def get_sub_category(soup):\n",
    "    return soup.find_all('div',class_='_1ruggxy')[2].a.text"
   ]
  },
  {
   "cell_type": "code",
   "execution_count": null,
   "id": "242a0424-073c-4f9f-8fd4-e3ef46d1e068",
   "metadata": {},
   "outputs": [],
   "source": [
    "%%writefile -a coursera_scraper.py\n",
    "\n",
    "def get_soup(site):\n",
    "    source = requests.get(site).text\n",
    "    return BeautifulSoup(source, 'lxml')"
   ]
  },
  {
   "cell_type": "code",
   "execution_count": 3,
   "id": "6a181fef-3431-419d-a3d4-5efd2de06499",
   "metadata": {},
   "outputs": [],
   "source": [
    "source = requests.get('https://www.coursera.org/sitemap~www~courses.xml').text"
   ]
  },
  {
   "cell_type": "code",
   "execution_count": 4,
   "id": "4bb3d1f0-3e59-46b4-834c-2145c1fc656c",
   "metadata": {},
   "outputs": [],
   "source": [
    "soup = BeautifulSoup(source, 'lxml')"
   ]
  },
  {
   "cell_type": "code",
   "execution_count": 8,
   "id": "1c206b6b-988f-4083-9532-ce9feed6a53d",
   "metadata": {},
   "outputs": [
    {
     "data": {
      "text/plain": [
       "'https://www.coursera.org/learn/cloud-computing'"
      ]
     },
     "execution_count": 8,
     "metadata": {},
     "output_type": "execute_result"
    }
   ],
   "source": [
    "y = soup.find_all('loc') \n",
    "y[0].text    "
   ]
  },
  {
   "cell_type": "code",
   "execution_count": 27,
   "id": "41220642-fc6c-4f26-8455-5a7ccaef27f7",
   "metadata": {},
   "outputs": [],
   "source": [
    "import coursera_scraper"
   ]
  },
  {
   "cell_type": "code",
   "execution_count": 32,
   "id": "8f857b8d-3f54-4538-94db-832c2d23c2ae",
   "metadata": {},
   "outputs": [],
   "source": [
    "%run coursera_scraper.py"
   ]
  },
  {
   "cell_type": "code",
   "execution_count": 33,
   "id": "723fc649-c7a6-452a-8b69-d320de0472a5",
   "metadata": {},
   "outputs": [
    {
     "output_type": "execute_result",
     "data": {
      "text/plain": [
       "<bound method NDFrame.head of                                                Title  Rating Value  \\\n",
       "0                   Cloud Computing Concepts, Part 1           4.4   \n",
       "1                    The Challenges of Global Health           4.8   \n",
       "2              Digital Marketing Analytics in Theory           4.5   \n",
       "3    Digital Product Management: Modern Fundamentals           4.7   \n",
       "4  Grow Your Business with Goldman Sachs 10,000 W...           4.7   \n",
       "5  Fundamentals of Negotiation, with Goldman Sach...           4.6   \n",
       "6  Fundamentals of Business Finance, with Goldman...           4.6   \n",
       "7  Fundamentals of Leadership, with Goldman Sachs...           4.6   \n",
       "8  Fundamentals of Customers and Competition, wit...           4.8   \n",
       "9  Fundamentals of Financial Planning, with Goldm...           4.6   \n",
       "\n",
       "   Enrollment Count     Main Category               Sub Category  \n",
       "0            111022  Computer Science                 Algorithms  \n",
       "1             44591            Health              Public Health  \n",
       "2            109945      Data Science              Data Analysis  \n",
       "3            120617          Business  Leadership and Management  \n",
       "4             26741          Business           Entrepreneurship  \n",
       "5              9599          Business           Entrepreneurship  \n",
       "6             14677          Business           Entrepreneurship  \n",
       "7             10720          Business           Entrepreneurship  \n",
       "8              6754          Business           Entrepreneurship  \n",
       "9              9802          Business           Entrepreneurship  >"
      ]
     },
     "metadata": {},
     "execution_count": 33
    }
   ],
   "source": [
    "import pandas as pd\n",
    "data = pd.read_csv('coursera_dataset.csv')\n",
    "data.head"
   ]
  },
  {
   "cell_type": "code",
   "execution_count": null,
   "metadata": {},
   "outputs": [],
   "source": []
  }
 ],
 "metadata": {
  "kernelspec": {
   "name": "python395jvsc74a57bd0a8a78d7664440dc0df5446b2a7ad03cbdf1ab0328d5d57d083d4ed2ecab6e3c5",
   "display_name": "Python 3.9.5 64-bit ('web-scrape-coursera': conda)"
  },
  "language_info": {
   "codemirror_mode": {
    "name": "ipython",
    "version": 3
   },
   "file_extension": ".py",
   "mimetype": "text/x-python",
   "name": "python",
   "nbconvert_exporter": "python",
   "pygments_lexer": "ipython3",
   "version": "3.9.5"
  }
 },
 "nbformat": 4,
 "nbformat_minor": 5
}