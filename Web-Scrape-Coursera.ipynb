{
 "cells": [
  {
   "source": [
    "## Web Scrape Coursera"
   ],
   "cell_type": "markdown",
   "metadata": {}
  },
  {
   "source": [
    "#### Import libraries"
   ],
   "cell_type": "markdown",
   "metadata": {}
  },
  {
   "cell_type": "code",
   "execution_count": 31,
   "id": "5407eb3f-3482-4218-a44f-b86539fdd912",
   "metadata": {},
   "outputs": [],
   "source": [
    "from bs4 import BeautifulSoup \n",
    "import requests"
   ]
  },
  {
   "source": [
    "## Extract data from a single HTML page\n",
    "\n",
    "Get the content of the website through requests modeule"
   ],
   "cell_type": "markdown",
   "metadata": {}
  },
  {
   "cell_type": "code",
   "execution_count": 32,
   "id": "a2e19dec-33be-4c59-bf50-612e39c49e96",
   "metadata": {},
   "outputs": [],
   "source": [
    "source = requests.get('https://www.coursera.org/learn/introduction-to-cloud').text"
   ]
  },
  {
   "source": [
    "#### Parse our HTML file"
   ],
   "cell_type": "markdown",
   "metadata": {}
  },
  {
   "cell_type": "code",
   "execution_count": 33,
   "id": "b2c5ada5-0cc6-48fa-999c-7275da7a75dc",
   "metadata": {},
   "outputs": [],
   "source": [
    "soup = BeautifulSoup(source, 'lxml')"
   ]
  },
  {
   "source": [
    "### Extract data \n",
    "\n",
    "Extract title tag"
   ],
   "cell_type": "markdown",
   "metadata": {}
  },
  {
   "cell_type": "code",
   "execution_count": 34,
   "id": "2b86dee4-2bf9-4883-ad4a-5c54a6f5b76b",
   "metadata": {},
   "outputs": [
    {
     "output_type": "execute_result",
     "data": {
      "text/plain": [
       "'Introduction to Cloud Computing'"
      ]
     },
     "metadata": {},
     "execution_count": 34
    }
   ],
   "source": [
    "soup.find('h1').text"
   ]
  },
  {
   "source": [
    "Extract the rating tag"
   ],
   "cell_type": "markdown",
   "metadata": {}
  },
  {
   "cell_type": "code",
   "execution_count": 35,
   "id": "bbd3a578-1e3a-46b6-ac77-1355b1d6462e",
   "metadata": {},
   "outputs": [
    {
     "output_type": "execute_result",
     "data": {
      "text/plain": [
       "'4.8'"
      ]
     },
     "metadata": {},
     "execution_count": 35
    }
   ],
   "source": [
    "soup.find('span', attrs={'data-test' : 'number-star-rating'}).text[:-5]"
   ]
  },
  {
   "source": [
    "Extract number of people enrolled"
   ],
   "cell_type": "markdown",
   "metadata": {}
  },
  {
   "cell_type": "code",
   "execution_count": 36,
   "id": "586a642e-845f-4478-ac3c-99327e8ecd7e",
   "metadata": {},
   "outputs": [
    {
     "output_type": "execute_result",
     "data": {
      "text/plain": [
       "'32,860'"
      ]
     },
     "metadata": {},
     "execution_count": 36
    }
   ],
   "source": [
    "soup.find('div',class_='rc-ProductMetrics').div.span.span.text"
   ]
  },
  {
   "source": [
    "Extract main category"
   ],
   "cell_type": "markdown",
   "metadata": {}
  },
  {
   "cell_type": "code",
   "execution_count": 37,
   "id": "b75bb9ee-8301-421b-a6fd-0e0ff2f1e3f8",
   "metadata": {},
   "outputs": [
    {
     "output_type": "execute_result",
     "data": {
      "text/plain": [
       "'Information Technology'"
      ]
     },
     "metadata": {},
     "execution_count": 37
    }
   ],
   "source": [
    "soup.find_all('div',class_='_1ruggxy')[1].a.text"
   ]
  },
  {
   "source": [
    "## Automate extraction from all HTML pages mentioned in sitemap\n",
    "\n",
    "Find the sitemap for all courses"
   ],
   "cell_type": "markdown",
   "metadata": {}
  },
  {
   "cell_type": "code",
   "execution_count": 38,
   "id": "6a181fef-3431-419d-a3d4-5efd2de06499",
   "metadata": {},
   "outputs": [],
   "source": [
    "source = requests.get('https://www.coursera.org/sitemap~www~courses.xml').text"
   ]
  },
  {
   "source": [
    "Extract the site links"
   ],
   "cell_type": "markdown",
   "metadata": {}
  },
  {
   "cell_type": "code",
   "execution_count": 39,
   "metadata": {},
   "outputs": [
    {
     "output_type": "execute_result",
     "data": {
      "text/plain": [
       "[<loc>https://www.coursera.org/learn/cloud-computing</loc>,\n",
       " <loc>https://www.coursera.org/learn/global-health</loc>,\n",
       " <loc>https://www.coursera.org/learn/marketing-analytics</loc>,\n",
       " <loc>https://www.coursera.org/learn/uva-darden-digital-product-management</loc>,\n",
       " <loc>https://www.coursera.org/learn/10k-women-1</loc>,\n",
       " <loc>https://www.coursera.org/learn/10k-women-10</loc>,\n",
       " <loc>https://www.coursera.org/learn/10k-women-2</loc>,\n",
       " <loc>https://www.coursera.org/learn/10k-women-3</loc>,\n",
       " <loc>https://www.coursera.org/learn/10k-women-4</loc>,\n",
       " <loc>https://www.coursera.org/learn/10k-women-5</loc>]"
      ]
     },
     "metadata": {},
     "execution_count": 39
    }
   ],
   "source": [
    "soup = BeautifulSoup(source, 'lxml')\n",
    "soup.find_all('loc')[:10]"
   ]
  },
  {
   "cell_type": "code",
   "execution_count": 40,
   "id": "41220642-fc6c-4f26-8455-5a7ccaef27f7",
   "metadata": {},
   "outputs": [],
   "source": [
    "import coursera_scraper"
   ]
  },
  {
   "cell_type": "code",
   "execution_count": 41,
   "id": "8f857b8d-3f54-4538-94db-832c2d23c2ae",
   "metadata": {},
   "outputs": [],
   "source": [
    "%run coursera_scraper.py"
   ]
  },
  {
   "cell_type": "code",
   "execution_count": 42,
   "id": "723fc649-c7a6-452a-8b69-d320de0472a5",
   "metadata": {},
   "outputs": [
    {
     "output_type": "execute_result",
     "data": {
      "text/plain": [
       "<bound method NDFrame.head of                                                Title  Rating Value  \\\n",
       "0                   Cloud Computing Concepts, Part 1           4.4   \n",
       "1                    The Challenges of Global Health           4.8   \n",
       "2              Digital Marketing Analytics in Theory           4.5   \n",
       "3    Digital Product Management: Modern Fundamentals           4.7   \n",
       "4  Grow Your Business with Goldman Sachs 10,000 W...           4.7   \n",
       "5  Fundamentals of Negotiation, with Goldman Sach...           4.6   \n",
       "6  Fundamentals of Business Finance, with Goldman...           4.6   \n",
       "7  Fundamentals of Leadership, with Goldman Sachs...           4.6   \n",
       "8  Fundamentals of Customers and Competition, wit...           4.8   \n",
       "9  Fundamentals of Financial Planning, with Goldm...           4.6   \n",
       "\n",
       "   Enrollment Count     Main Category  \n",
       "0            111069  Computer Science  \n",
       "1             44628            Health  \n",
       "2            109992      Data Science  \n",
       "3            120677          Business  \n",
       "4             26805          Business  \n",
       "5              9624          Business  \n",
       "6             14714          Business  \n",
       "7             10747          Business  \n",
       "8              6773          Business  \n",
       "9              9827          Business  >"
      ]
     },
     "metadata": {},
     "execution_count": 42
    }
   ],
   "source": [
    "import pandas as pd\n",
    "data = pd.read_csv('coursera_dataset.csv')\n",
    "data.head"
   ]
  },
  {
   "cell_type": "code",
   "execution_count": null,
   "metadata": {},
   "outputs": [],
   "source": []
  }
 ],
 "metadata": {
  "kernelspec": {
   "name": "python394jvsc74a57bd0a8a78d7664440dc0df5446b2a7ad03cbdf1ab0328d5d57d083d4ed2ecab6e3c5",
   "display_name": "Python 3.9.5 64-bit ('web-scrape-coursera': conda)"
  },
  "language_info": {
   "codemirror_mode": {
    "name": "ipython",
    "version": 3
   },
   "file_extension": ".py",
   "mimetype": "text/x-python",
   "name": "python",
   "nbconvert_exporter": "python",
   "pygments_lexer": "ipython3",
   "version": "3.9.4"
  }
 },
 "nbformat": 4,
 "nbformat_minor": 5
}