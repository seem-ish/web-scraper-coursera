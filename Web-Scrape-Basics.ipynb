{
 "cells": [
  {
   "source": [
    "## Webscrape a basic HTML file"
   ],
   "cell_type": "markdown",
   "metadata": {}
  },
  {
   "source": [
    "### Webscraping:\n",
    "\n",
    "Extracting data from websites.\n",
    "\n",
    "### Is it legal?\n",
    "\n",
    "- Depends on how you use the data.\n",
    "- Publicly available sites can not require a user to agree to any Terms of Service before accessing the data, users are free to use web crawlers to collect data from the site.\n",
    "\n"
   ],
   "cell_type": "markdown",
   "metadata": {}
  },
  {
   "source": [
    "### What will we do today?\n",
    "\n",
    "Scrape courses of coursera to build a dataset having the following fields:\n",
    "- Title\n",
    "- Rating \n",
    "- Number of Enrollments\n",
    "- Main Category \n",
    "- Sub Category\n"
   ],
   "cell_type": "markdown",
   "metadata": {}
  },
  {
   "source": [
    "### How our solution looks like"
   ],
   "cell_type": "markdown",
   "metadata": {}
  },
  {
   "source": [
    "### Outline:\n",
    "\n",
    "- Understand webscraping through a basic site\n",
    "- Develop a scraper for coursera and create our dataset \n",
    "- See the development workflow through github"
   ],
   "cell_type": "markdown",
   "metadata": {}
  },
  {
   "source": [
    "### Libraries used\n",
    "\n",
    "#### Beautiful Soup\n",
    "\n",
    "    - A Python library for pulling data out of HTML and XML files.\n",
    "    - Works with a parser for navigating and searching the data from these web pages.\n",
    "    - Search by tags and labels.\n",
    "\n",
    "#### Lxml\n",
    "    - Parser used in this project\n",
    "    - Easy-to-use library for processing XML and HTML in the Python language\n",
    "\n",
    "#### Requests module\n",
    "    - Allows to send HTTP requests using Python.\n",
    "    - The HTTP request returns a Response Object with all the response data (content, encoding, status, etc)."
   ],
   "cell_type": "markdown",
   "metadata": {}
  },
  {
   "source": [
    "### Import Beautiful Soup"
   ],
   "cell_type": "markdown",
   "metadata": {}
  },
  {
   "cell_type": "code",
   "execution_count": 5,
   "id": "80c73f09-81ee-42f1-8afb-f6d489c274ad",
   "metadata": {},
   "outputs": [],
   "source": [
    "from bs4 import BeautifulSoup "
   ]
  },
  {
   "source": [
    "#### Parse our HTML file\n",
    "Open and pass HTML file and lxml to parse our simple html file"
   ],
   "cell_type": "markdown",
   "metadata": {}
  },
  {
   "cell_type": "code",
   "execution_count": 6,
   "id": "565b7ece-e210-4a4c-998b-4beed01f4b5c",
   "metadata": {},
   "outputs": [],
   "source": [
    "with open('basic.html') as html_file:\n",
    "    soup = BeautifulSoup(html_file,'lxml')"
   ]
  },
  {
   "source": [
    "See the contents of our soup :)"
   ],
   "cell_type": "markdown",
   "metadata": {}
  },
  {
   "cell_type": "code",
   "execution_count": 9,
   "id": "f1c35413-7f2e-48e9-b5ad-c02c3c8a0c1b",
   "metadata": {},
   "outputs": [
    {
     "output_type": "execute_result",
     "data": {
      "text/plain": [
       "<!DOCTYPE html>\n",
       "<html>\n",
       "<head>\n",
       "<title>Book Excerpt</title>\n",
       "<meta charset=\"utf-8\"/>\n",
       "</head>\n",
       "<body>\n",
       "<h1 id=\"site_title\">Book Excerpts</h1>\n",
       "<hr/>\n",
       "<div class=\"excerpts\">\n",
       "<h2>Jane Eyre</h2>\n",
       "<p>“Do you think I am an automaton? — a machine without feelings? and can bear to have my morsel of bread snatched from my lips, and my drop of living water dashed from my cup? Do you think, because I am poor, obscure, plain, and little, I am soulless and heartless? You think wrong! — I have as much soul as you — and full as much heart! And if God had gifted me with some beauty and much wealth, I should have made it as hard for you to leave me, as it is now for me to leave you. I am not talking to you now through the medium of custom, conventionalities, nor even of mortal flesh: it is my spirit that addresses your spirit; just as if both had passed through the grave, and we stood at God's feet, equal — as we are!”</p>\n",
       "</div>\n",
       "<hr/>\n",
       "<div class=\"excerpts\">\n",
       "<h2>Homo Deus</h2>\n",
       "<p>“This is the best reason to learn history: not in order to predict the future, but to free yourself of the past and imagine alternative destinies. Of course this is not total freedom – we cannot avoid being shaped by the past. But some freedom is better than none.”</p>\n",
       "</div>\n",
       "<hr/>\n",
       "<div class=\"footer\">\n",
       "<p>Footer Information</p>\n",
       "</div>\n",
       "</body>\n",
       "</html>"
      ]
     },
     "metadata": {},
     "execution_count": 9
    }
   ],
   "source": [
    "soup"
   ]
  },
  {
   "source": [
    "prettify method: Looks fancy :D"
   ],
   "cell_type": "markdown",
   "metadata": {}
  },
  {
   "cell_type": "code",
   "execution_count": 12,
   "id": "7b6d7eb8-3c4f-4867-a75d-3feb6362fcfa",
   "metadata": {},
   "outputs": [
    {
     "output_type": "stream",
     "name": "stdout",
     "text": [
      "<!DOCTYPE html>\n<html>\n <head>\n  <title>\n   Book Excerpt\n  </title>\n  <meta charset=\"utf-8\"/>\n </head>\n <body>\n  <h1 id=\"site_title\">\n   Book Excerpts\n  </h1>\n  <hr/>\n  <div class=\"excerpts\">\n   <h2>\n    Jane Eyre\n   </h2>\n   <p>\n    “Do you think I am an automaton? — a machine without feelings? and can bear to have my morsel of bread snatched from my lips, and my drop of living water dashed from my cup? Do you think, because I am poor, obscure, plain, and little, I am soulless and heartless? You think wrong! — I have as much soul as you — and full as much heart! And if God had gifted me with some beauty and much wealth, I should have made it as hard for you to leave me, as it is now for me to leave you. I am not talking to you now through the medium of custom, conventionalities, nor even of mortal flesh: it is my spirit that addresses your spirit; just as if both had passed through the grave, and we stood at God's feet, equal — as we are!”\n   </p>\n  </div>\n  <hr/>\n  <div class=\"excerpts\">\n   <h2>\n    Homo Deus\n   </h2>\n   <p>\n    “This is the best reason to learn history: not in order to predict the future, but to free yourself of the past and imagine alternative destinies. Of course this is not total freedom – we cannot avoid being shaped by the past. But some freedom is better than none.”\n   </p>\n  </div>\n  <hr/>\n  <div class=\"footer\">\n   <p>\n    Footer Information\n   </p>\n  </div>\n </body>\n</html>\n"
     ]
    }
   ],
   "source": [
    "print(soup.prettify())"
   ]
  },
  {
   "source": [
    "### Extract through tags"
   ],
   "cell_type": "markdown",
   "metadata": {}
  },
  {
   "source": [
    "#### Title tag"
   ],
   "cell_type": "markdown",
   "metadata": {}
  },
  {
   "cell_type": "code",
   "execution_count": 5,
   "id": "0c74313d-a9d9-4a1c-b2f3-76d71608a5e4",
   "metadata": {},
   "outputs": [
    {
     "data": {
      "text/plain": [
       "<title>Book Excerpt</title>"
      ]
     },
     "execution_count": 5,
     "metadata": {},
     "output_type": "execute_result"
    }
   ],
   "source": [
    "soup.title"
   ]
  },
  {
   "cell_type": "code",
   "execution_count": 6,
   "id": "8a720828-0290-4a72-b1aa-358291b56c50",
   "metadata": {},
   "outputs": [
    {
     "data": {
      "text/plain": [
       "'Book Excerpt'"
      ]
     },
     "execution_count": 6,
     "metadata": {},
     "output_type": "execute_result"
    }
   ],
   "source": [
    "soup.title.text"
   ]
  },
  {
   "source": [
    "#### Div tag"
   ],
   "cell_type": "markdown",
   "metadata": {}
  },
  {
   "cell_type": "code",
   "execution_count": 13,
   "id": "20502eb0-878e-4d0f-8d9e-a676540adf36",
   "metadata": {},
   "outputs": [
    {
     "output_type": "execute_result",
     "data": {
      "text/plain": [
       "<div class=\"excerpts\">\n",
       "<h2>Jane Eyre</h2>\n",
       "<p>“Do you think I am an automaton? — a machine without feelings? and can bear to have my morsel of bread snatched from my lips, and my drop of living water dashed from my cup? Do you think, because I am poor, obscure, plain, and little, I am soulless and heartless? You think wrong! — I have as much soul as you — and full as much heart! And if God had gifted me with some beauty and much wealth, I should have made it as hard for you to leave me, as it is now for me to leave you. I am not talking to you now through the medium of custom, conventionalities, nor even of mortal flesh: it is my spirit that addresses your spirit; just as if both had passed through the grave, and we stood at God's feet, equal — as we are!”</p>\n",
       "</div>"
      ]
     },
     "metadata": {},
     "execution_count": 13
    }
   ],
   "source": [
    "soup.div"
   ]
  },
  {
   "cell_type": "markdown",
   "id": "e89ab9f5-e4d6-468f-8d61-6953f67f820f",
   "metadata": {},
   "source": [
    "### Customised search for tags:\n",
    "\n",
    "find method for more customised search"
   ]
  },
  {
   "cell_type": "code",
   "execution_count": 8,
   "id": "f9f885c0-77d4-4a7c-b093-b22713f9ca98",
   "metadata": {},
   "outputs": [
    {
     "data": {
      "text/plain": [
       "<div class=\"excerpts\">\n",
       "<h2>Jane Eyre</h2>\n",
       "<p>“Do you think I am an automaton? — a machine without feelings? and can bear to have my morsel of bread snatched from my lips, and my drop of living water dashed from my cup? Do you think, because I am poor, obscure, plain, and little, I am soulless and heartless? You think wrong! — I have as much soul as you — and full as much heart! And if God had gifted me with some beauty and much wealth, I should have made it as hard for you to leave me, as it is now for me to leave you. I am not talking to you now through the medium of custom, conventionalities, nor even of mortal flesh: it is my spirit that addresses your spirit; just as if both had passed through the grave, and we stood at God's feet, equal — as we are!”</p>\n",
       "</div>"
      ]
     },
     "execution_count": 8,
     "metadata": {},
     "output_type": "execute_result"
    }
   ],
   "source": [
    "soup.find('div')"
   ]
  },
  {
   "cell_type": "markdown",
   "id": "b7ecf33b-2959-4266-8bda-8d4c26f594e3",
   "metadata": {},
   "source": [
    "Only got the first div on page"
   ]
  },
  {
   "source": [
    "Find specific div by it's label"
   ],
   "cell_type": "markdown",
   "metadata": {}
  },
  {
   "cell_type": "code",
   "execution_count": 10,
   "id": "891f8422-d1e7-4734-88aa-51ef221e009d",
   "metadata": {},
   "outputs": [
    {
     "data": {
      "text/plain": [
       "<div class=\"footer\">\n",
       "<p>Footer Information</p>\n",
       "</div>"
      ]
     },
     "execution_count": 10,
     "metadata": {},
     "output_type": "execute_result"
    }
   ],
   "source": [
    "soup.find('div', class_ ='footer')"
   ]
  },
  {
   "cell_type": "markdown",
   "id": "a3d2d8e6-414d-4775-b37f-4a55a8d9de15",
   "metadata": {},
   "source": [
    "Underscore after the class because class is a keyword in python"
   ]
  },
  {
   "source": [
    "### Extract content from HTML file"
   ],
   "cell_type": "markdown",
   "metadata": {}
  },
  {
   "cell_type": "code",
   "execution_count": 20,
   "id": "b98df00e-6fd7-4e13-9932-861fd29e7089",
   "metadata": {},
   "outputs": [
    {
     "data": {
      "text/plain": [
       "'Jane Eyre'"
      ]
     },
     "execution_count": 20,
     "metadata": {},
     "output_type": "execute_result"
    }
   ],
   "source": [
    "excerpt = soup.find('div', class_ ='excerpts')\n",
    "excerpt.h2.text"
   ]
  },
  {
   "cell_type": "code",
   "execution_count": 21,
   "id": "2ea89f82-8d23-4a63-8b60-8be3bf375671",
   "metadata": {},
   "outputs": [
    {
     "data": {
      "text/plain": [
       "\"“Do you think I am an automaton? — a machine without feelings? and can bear to have my morsel of bread snatched from my lips, and my drop of living water dashed from my cup? Do you think, because I am poor, obscure, plain, and little, I am soulless and heartless? You think wrong! — I have as much soul as you — and full as much heart! And if God had gifted me with some beauty and much wealth, I should have made it as hard for you to leave me, as it is now for me to leave you. I am not talking to you now through the medium of custom, conventionalities, nor even of mortal flesh: it is my spirit that addresses your spirit; just as if both had passed through the grave, and we stood at God's feet, equal — as we are!”\""
      ]
     },
     "execution_count": 21,
     "metadata": {},
     "output_type": "execute_result"
    }
   ],
   "source": [
    "excerpt.p.text"
   ]
  },
  {
   "cell_type": "code",
   "execution_count": 30,
   "id": "153c7098-280b-493f-936b-30a7b3628aa7",
   "metadata": {},
   "outputs": [
    {
     "name": "stdout",
     "output_type": "stream",
     "text": [
      "Headline: Jane Eyre\n",
      "Summary: “Do you think I am an automaton? — a machine without feelings? and can bear to have my morsel of bread snatched from my lips, and my drop of living water dashed from my cup? Do you think, because I am poor, obscure, plain, and little, I am soulless and heartless? You think wrong! — I have as much soul as you — and full as much heart! And if God had gifted me with some beauty and much wealth, I should have made it as hard for you to leave me, as it is now for me to leave you. I am not talking to you now through the medium of custom, conventionalities, nor even of mortal flesh: it is my spirit that addresses your spirit; just as if both had passed through the grave, and we stood at God's feet, equal — as we are!”\n",
      "Headline: Homo Deus\n",
      "Summary: “This is the best reason to learn history: not in order to predict the future, but to free yourself of the past and imagine alternative destinies. Of course this is not total freedom – we cannot avoid being shaped by the past. But some freedom is better than none.”\n"
     ]
    }
   ],
   "source": [
    "for excerpt in soup.find_all('div', class_ ='excerpts'):\n",
    "    headline = excerpt.h2.text\n",
    "    print('Headline:', headline)\n",
    "    summary = excerpt.p.text\n",
    "    print('Summary:',summary)"
   ]
  }
 ],
 "metadata": {
  "kernelspec": {
   "name": "python394jvsc74a57bd0a8a78d7664440dc0df5446b2a7ad03cbdf1ab0328d5d57d083d4ed2ecab6e3c5",
   "display_name": "Python 3.9.5 64-bit ('web-scrape-coursera': conda)"
  },
  "language_info": {
   "codemirror_mode": {
    "name": "ipython",
    "version": 3
   },
   "file_extension": ".py",
   "mimetype": "text/x-python",
   "name": "python",
   "nbconvert_exporter": "python",
   "pygments_lexer": "ipython3",
   "version": "3.9.4"
  }
 },
 "nbformat": 4,
 "nbformat_minor": 5
}